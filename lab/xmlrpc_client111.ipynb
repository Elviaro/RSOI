{
 "cells": [
  {
   "cell_type": "code",
   "execution_count": 1,
   "metadata": {},
   "outputs": [
    {
     "ename": "NameError",
     "evalue": "name 'xmlrpc' is not defined",
     "output_type": "error",
     "traceback": [
      "\u001b[1;31m---------------------------------------------------------------------------\u001b[0m",
      "\u001b[1;31mNameError\u001b[0m                                 Traceback (most recent call last)",
      "Cell \u001b[1;32mIn[1], line 7\u001b[0m\n\u001b[0;32m      3\u001b[0m \u001b[38;5;28;01mimport\u001b[39;00m \u001b[38;5;21;01mpickle\u001b[39;00m\n\u001b[0;32m      4\u001b[0m \u001b[38;5;28;01mimport\u001b[39;00m \u001b[38;5;21;01mpandas\u001b[39;00m \u001b[38;5;28;01mas\u001b[39;00m \u001b[38;5;21;01mpd\u001b[39;00m\n\u001b[1;32m----> 7\u001b[0m server \u001b[38;5;241m=\u001b[39m \u001b[43mxmlrpc\u001b[49m\u001b[38;5;241m.\u001b[39mclient\u001b[38;5;241m.\u001b[39mServerProxy(\u001b[38;5;124m\"\u001b[39m\u001b[38;5;124mhttp://localhost:7070\u001b[39m\u001b[38;5;124m\"\u001b[39m)\n\u001b[0;32m      9\u001b[0m \u001b[38;5;28;01mtry\u001b[39;00m:\n\u001b[0;32m     10\u001b[0m     stats_server \u001b[38;5;241m=\u001b[39m xmlrpclib\u001b[38;5;241m.\u001b[39mServerProxy(\u001b[38;5;124m\"\u001b[39m\u001b[38;5;124mhttp://localhost:8018\u001b[39m\u001b[38;5;124m\"\u001b[39m)\n",
      "\u001b[1;31mNameError\u001b[0m: name 'xmlrpc' is not defined"
     ]
    }
   ],
   "source": [
    "# xmlrpc_client.ipynb\n",
    "import xmlrpc.client as xmlrpclib\n",
    "import pickle\n",
    "import pandas as pd\n",
    "\n",
    "\n",
    "server = xmlrpc.client.ServerProxy(\"http://localhost:7070\")\n",
    "\n",
    "try:\n",
    "    stats_server = xmlrpclib.ServerProxy(\"http://localhost:8018\")\n",
    "except xmlrpclib.Error:\n",
    "    print(\"Сервер с портом 8018 не доступен\")\n",
    "except ConnectionRefusedError:\n",
    "    print('Сервер недоступен')\n",
    "\n",
    "try:\n",
    "    stats2_server = xmlrpc.client.ServerProxy(\"http://localhost:6060\")\n",
    "except xmlrpclib.Error:\n",
    "    print(\"Сервер с портом 6060 не доступен\")\n",
    "except ConnectionRefusedError:\n",
    "    print('Сервер недоступен')\n",
    "\n",
    "\n",
    "print('Ping:', server.ping())\n",
    "\n",
    "print('Server datetime:', server.now())\n",
    "\n",
    "print('View, type, value:', server.type(2))\n",
    "print('View, type, value:', server.type(2.))\n",
    "print('View, type, value:', server.type('My string'))\n",
    "#print('View, type, value:', server.type(\"My string\"))\n",
    "#print('View, type, value:', server.type([1,2,3]))\n",
    "#print('View, type, value:', server.type([\"one\", \"two\", \"three\"]))\n",
    "#print('View, type, value:', server.type((1,2,\"3\")))\n",
    "\n",
    "print('Sum 2 + 3 :', server.sum(2, 3))\n",
    "print('Pow 2^3: ', server.pow(2, 3))"
   ]
  },
  {
   "cell_type": "code",
   "execution_count": null,
   "metadata": {},
   "outputs": [],
   "source": [
    "\n",
    "import matplotlib\n",
    "from PIL import Image # Работа с изображением\n",
    "from pylab import * # Отображение\n",
    "\n",
    "import xmlrpc.client as xmlrpclib\n",
    "\n",
    "# Режим отображения внутри ноутбука\n",
    "%matplotlib inline\n",
    "\n",
    "img = Image.open('11.bmp')\n",
    "\n",
    "img_arr = array(img)\n",
    "imshow(img_arr)\n",
    "img = Image.open('Jellyfish.jpg')\n",
    "\n",
    "img_arr = array(img)\n",
    "\n",
    "# Исходное изображение\n",
    "imshow(img_arr)"
   ]
  },
  {
   "cell_type": "code",
   "execution_count": null,
   "metadata": {},
   "outputs": [],
   "source": [
    "# Тест бинарной передачи данных\n",
    "#pimg = img_arr.dumps()\n",
    "pimg = pickle.dumps(img_arr) # универсально\n",
    "\n",
    "img_bin = xmlrpclib.Binary(pimg)\n",
    "\n",
    "img_bin2 = server.send_back_binary(img_bin)\n",
    "\n",
    "#img_arr2 = np.loads(img_bin2.data)\n",
    "img_arr2 = pickle.loads(img_bin2.data) # универсально\n",
    "\n",
    "# Изображение после возрата с сервера\n",
    "imshow(img_arr2)"
   ]
  },
  {
   "cell_type": "code",
   "execution_count": null,
   "metadata": {},
   "outputs": [],
   "source": [
    "\n",
    "threshold = 128\n",
    "img_bin2 = server.binary_image(img_bin, threshold)\n",
    "\n",
    "# Изображение после возрата с сервера\n",
    "img_arr2 = pickle.loads(img_bin2.data)\n",
    "plt.imshow(img_arr2)\n",
    "plt.show()"
   ]
  },
  {
   "cell_type": "code",
   "execution_count": null,
   "metadata": {},
   "outputs": [],
   "source": [
    "\n",
    "# Инверсия цвета изображения через сервер\n",
    "def inv_color(img_arr_in):\n",
    "    pimg = pickle.dumps(img_arr_in)\n",
    "    img_bin = xmlrpclib.Binary(pimg)\n",
    "    \n",
    "    img_bin2 = server.color_inversion(img_bin)\n",
    "    \n",
    "    img_arr_out = pickle.loads(img_bin2.data)\n",
    "    return img_arr_out\n",
    "\n",
    "img = Image.open('11.bmp')\n",
    "\n",
    "img_arr = array(img)\n",
    "img_arr_inv = inv_color(img_arr)\n",
    "\n",
    "# Изображение с инверсией цвета\n",
    "imshow(img_arr_inv)"
   ]
  },
  {
   "cell_type": "code",
   "execution_count": null,
   "metadata": {},
   "outputs": [],
   "source": [
    "def flip_img(img_arr_in):\n",
    "    pimg = pickle.dumps(img_arr_in)\n",
    "    img_bin = xmlrpclib.Binary(pimg)\n",
    "    \n",
    "    img_bin2 = server.flip_image(img_bin)\n",
    "    \n",
    "    img_arr_out = pickle.loads(img_bin2.data)\n",
    "    return img_arr_out\n",
    "    \n",
    "img = Image.open('11.bmp')\n",
    "img_arr = array(img)\n",
    "flipped_image = flip_img(img_arr)\n",
    "imshow(flipped_image)"
   ]
  },
  {
   "cell_type": "code",
   "execution_count": null,
   "metadata": {},
   "outputs": [],
   "source": [
    "print(server.black_list_check(u'Петров', u'03.08.1985'))\n",
    "print(server.black_list_check(u'Примеров', u'05.05.1985'))\n"
   ]
  },
  {
   "cell_type": "code",
   "execution_count": null,
   "metadata": {},
   "outputs": [],
   "source": [
    "try:\n",
    "    stats_server = xmlrpclib.ServerProxy('http://localhost:8018')\n",
    "    print(stats_server.logs())\n",
    "    print('---')\n",
    "    print(stats_server.logs_slice_by_operation('Type'))\n",
    "    print('---')\n",
    "    print(stats_server.logs_slice_by_time('2023-11-20 12:27:30', '2023-11-20 12:28:11', 'Type'))\n",
    "    print('---')\n",
    "except xmlrpclib.Error:\n",
    "    print('Ошибка на сервере')\n",
    "except ConnectionRefusedError:\n",
    "    print('Сервер недоступен')"
   ]
  },
  {
   "cell_type": "code",
   "execution_count": null,
   "metadata": {},
   "outputs": [],
   "source": []
  },
  {
   "cell_type": "code",
   "execution_count": null,
   "metadata": {},
   "outputs": [],
   "source": []
  }
 ],
 "metadata": {
  "kernelspec": {
   "display_name": "Python 3 (ipykernel)",
   "language": "python",
   "name": "python3"
  },
  "language_info": {
   "codemirror_mode": {
    "name": "ipython",
    "version": 3
   },
   "file_extension": ".py",
   "mimetype": "text/x-python",
   "name": "python",
   "nbconvert_exporter": "python",
   "pygments_lexer": "ipython3",
   "version": "3.11.4"
  }
 },
 "nbformat": 4,
 "nbformat_minor": 4
}
