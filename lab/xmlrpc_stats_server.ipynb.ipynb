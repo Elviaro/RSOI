{
 "cells": [
  {
   "cell_type": "markdown",
   "metadata": {},
   "source": [
    "#### Файл сервера xmlrpc_stats_server_p3.ipynb на Python 3 "
   ]
  },
  {
   "cell_type": "code",
   "execution_count": null,
   "metadata": {},
   "outputs": [
    {
     "name": "stdout",
     "output_type": "stream",
     "text": [
      "Listening on port 8018...\n"
     ]
    },
    {
     "name": "stderr",
     "output_type": "stream",
     "text": [
      "127.0.0.1 - - [04/Dec/2023 21:04:59] \"POST /RPC2 HTTP/1.1\" 200 -\n",
      "127.0.0.1 - - [04/Dec/2023 21:05:51] \"POST /RPC2 HTTP/1.1\" 200 -\n"
     ]
    }
   ],
   "source": [
    "\n",
    "from xmlrpc.server import SimpleXMLRPCServer\n",
    "from xmlrpc.server import SimpleXMLRPCRequestHandler\n",
    "\n",
    "import datetime\n",
    "\n",
    "\n",
    "class RequestHandler(SimpleXMLRPCRequestHandler):\n",
    "    rpc_paths = ('/RPC2',)\n",
    "\n",
    "server = SimpleXMLRPCServer((\"localhost\", 8018), \n",
    "                            requestHandler=RequestHandler)\n",
    "\n",
    "\n",
    "# Добавление строки в лог\n",
    "def add_log(sname):\n",
    "    f = open('log.csv','a')\n",
    "    f.write(str(sname)+','+ datetime.datetime.now().strftime(\"%Y-%m-%d %H:%M:%S\") +'\\n')\n",
    "    f.close()\n",
    "    return True\n",
    "\n",
    "server.register_function(add_log, 'add_log')\n",
    "\n",
    "def get_log(event_type, start_time, end_time):\n",
    "    filtered_events = []\n",
    "    with open('event_log.csv', 'r') as file:\n",
    "        reader = csv.reader(file)\n",
    "        for row in reader:\n",
    "            timestamp, event = row\n",
    "            timestamp = datetime.datetime.strptime(timestamp, \"%Y-%m-%d %H:%M:%S\")\n",
    "            if event == event_type and start_time <= timestamp <= end_time:\n",
    "                filtered_events.append(row)\n",
    "    return filtered_events\n",
    "\n",
    "server.register_function(get_log, 'get_log')\n",
    "\n",
    "print (\"Listening on port 8018...\")\n",
    "server.serve_forever()\n",
    "\n",
    "\n",
    "\n",
    "\n",
    "def logs_slice_by_time2(left, right, operation):\n",
    "    date_pattern = '%Y-%m-%d %H:%M:%S'\n",
    "    left_date = datetime.datetime.strptime(left, date_pattern)\n",
    "    right_date = datetime.datetime.strptime(right, date_pattern)\n",
    "    csv_files_names = list(filter(lambda x: x.endswith('.csv'), os.listdir(os.getcwd())))\n",
    "    csv_files_dates = list(map(lambda x: x[0:len(x) - 4], csv_files_names))\n",
    "    csv_files_parsed_dates = list(\n",
    "        map(\n",
    "            lambda d: datetime.datetime.strptime(d, file_date_pattern),\n",
    "            list(filter(lambda x: x != 'log' and x != 'new_file_name', csv_files_dates))\n",
    "        )\n",
    "    )\n",
    "\n",
    "    csv_files_names.remove('log.csv')\n",
    "    left_index = 0\n",
    "    right_index = len(csv_files_names)\n",
    "    for i in range(len(csv_files_parsed_dates) - 1):\n",
    "        if csv_files_parsed_dates[i] < left_date >= csv_files_parsed_dates[i + 1]:\n",
    "            left_index = i + 1\n",
    "        if csv_files_parsed_dates[i] < right_date <= csv_files_parsed_dates[i + 1]:\n",
    "            right_index = i + 1\n",
    "\n",
    "    csv_files_names_in_range = csv_files_names[left_index:right_index]\n",
    "    csv_files = list(map(lambda x: open(x, encoding='utf8'), csv_files_names_in_range))\n",
    "    logs_from_files = files_to_logs(csv_files)\n",
    "    if operation is None:\n",
    "        return logs_from_files\n",
    "    else:\n",
    "        result = list()\n",
    "        for log_line in logs_from_files:\n",
    "            if operator.eq(log_line[1], operation):\n",
    "                result.append(log_line)\n",
    "        return result\n",
    "server.register_function(logs_slice_by_time2, 'logs_slice_by_time2')\n",
    "\n",
    "\n",
    "def files_to_logs(csv_files):\n",
    "    result = list()\n",
    "    for f in csv_files:\n",
    "        reader = csv.reader(f)\n",
    "        for line in reader:\n",
    "            result.append(line)\n",
    "        f.close()\n",
    "\n",
    "    return result\n"
   ]
  },
  {
   "cell_type": "code",
   "execution_count": null,
   "metadata": {},
   "outputs": [],
   "source": []
  }
 ],
 "metadata": {
  "kernelspec": {
   "display_name": "Python 3 (ipykernel)",
   "language": "python",
   "name": "python3"
  },
  "language_info": {
   "codemirror_mode": {
    "name": "ipython",
    "version": 3
   },
   "file_extension": ".py",
   "mimetype": "text/x-python",
   "name": "python",
   "nbconvert_exporter": "python",
   "pygments_lexer": "ipython3",
   "version": "3.11.4"
  }
 },
 "nbformat": 4,
 "nbformat_minor": 4
}
