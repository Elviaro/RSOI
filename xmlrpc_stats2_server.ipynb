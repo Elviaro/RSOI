{
 "cells": [
  {
   "cell_type": "code",
   "execution_count": 1,
   "metadata": {},
   "outputs": [
    {
     "name": "stdout",
     "output_type": "stream",
     "text": [
      "Listening on port 6060...\n"
     ]
    },
    {
     "name": "stderr",
     "output_type": "stream",
     "text": [
      "127.0.0.1 - - [12/Dec/2023 15:14:40] \"POST /RPC2 HTTP/1.1\" 200 -\n",
      "127.0.0.1 - - [12/Dec/2023 15:14:46] \"POST /RPC2 HTTP/1.1\" 200 -\n",
      "127.0.0.1 - - [12/Dec/2023 15:14:52] \"POST /RPC2 HTTP/1.1\" 200 -\n",
      "127.0.0.1 - - [12/Dec/2023 15:14:58] \"POST /RPC2 HTTP/1.1\" 200 -\n",
      "127.0.0.1 - - [12/Dec/2023 15:15:04] \"POST /RPC2 HTTP/1.1\" 200 -\n",
      "127.0.0.1 - - [12/Dec/2023 15:15:10] \"POST /RPC2 HTTP/1.1\" 200 -\n",
      "127.0.0.1 - - [12/Dec/2023 15:15:17] \"POST /RPC2 HTTP/1.1\" 200 -\n",
      "127.0.0.1 - - [12/Dec/2023 15:15:23] \"POST /RPC2 HTTP/1.1\" 200 -\n",
      "127.0.0.1 - - [12/Dec/2023 15:15:29] \"POST /RPC2 HTTP/1.1\" 200 -\n",
      "127.0.0.1 - - [12/Dec/2023 15:15:36] \"POST /RPC2 HTTP/1.1\" 200 -\n",
      "127.0.0.1 - - [12/Dec/2023 15:15:53] \"POST /RPC2 HTTP/1.1\" 200 -\n",
      "127.0.0.1 - - [12/Dec/2023 15:16:00] \"POST /RPC2 HTTP/1.1\" 200 -\n",
      "127.0.0.1 - - [12/Dec/2023 15:16:08] \"POST /RPC2 HTTP/1.1\" 200 -\n",
      "127.0.0.1 - - [12/Dec/2023 15:16:19] \"POST /RPC2 HTTP/1.1\" 200 -\n",
      "127.0.0.1 - - [12/Dec/2023 15:16:25] \"POST /RPC2 HTTP/1.1\" 200 -\n",
      "127.0.0.1 - - [12/Dec/2023 15:16:27] \"POST /RPC2 HTTP/1.1\" 200 -\n"
     ]
    },
    {
     "ename": "KeyboardInterrupt",
     "evalue": "",
     "output_type": "error",
     "traceback": [
      "\u001b[1;31m---------------------------------------------------------------------------\u001b[0m",
      "\u001b[1;31mKeyboardInterrupt\u001b[0m                         Traceback (most recent call last)",
      "Cell \u001b[1;32mIn[1], line 69\u001b[0m\n\u001b[0;32m     66\u001b[0m server\u001b[38;5;241m.\u001b[39mregister_function(get_logs, \u001b[38;5;124m'\u001b[39m\u001b[38;5;124mget_logs\u001b[39m\u001b[38;5;124m'\u001b[39m)\n\u001b[0;32m     68\u001b[0m \u001b[38;5;28mprint\u001b[39m (\u001b[38;5;124m\"\u001b[39m\u001b[38;5;124mListening on port 6060...\u001b[39m\u001b[38;5;124m\"\u001b[39m)\n\u001b[1;32m---> 69\u001b[0m server\u001b[38;5;241m.\u001b[39mserve_forever()\n",
      "File \u001b[1;32mG:\\Anaconda3\\Lib\\socketserver.py:233\u001b[0m, in \u001b[0;36mBaseServer.serve_forever\u001b[1;34m(self, poll_interval)\u001b[0m\n\u001b[0;32m    230\u001b[0m selector\u001b[38;5;241m.\u001b[39mregister(\u001b[38;5;28mself\u001b[39m, selectors\u001b[38;5;241m.\u001b[39mEVENT_READ)\n\u001b[0;32m    232\u001b[0m \u001b[38;5;28;01mwhile\u001b[39;00m \u001b[38;5;129;01mnot\u001b[39;00m \u001b[38;5;28mself\u001b[39m\u001b[38;5;241m.\u001b[39m__shutdown_request:\n\u001b[1;32m--> 233\u001b[0m     ready \u001b[38;5;241m=\u001b[39m selector\u001b[38;5;241m.\u001b[39mselect(poll_interval)\n\u001b[0;32m    234\u001b[0m     \u001b[38;5;66;03m# bpo-35017: shutdown() called during select(), exit immediately.\u001b[39;00m\n\u001b[0;32m    235\u001b[0m     \u001b[38;5;28;01mif\u001b[39;00m \u001b[38;5;28mself\u001b[39m\u001b[38;5;241m.\u001b[39m__shutdown_request:\n",
      "File \u001b[1;32mG:\\Anaconda3\\Lib\\selectors.py:323\u001b[0m, in \u001b[0;36mSelectSelector.select\u001b[1;34m(self, timeout)\u001b[0m\n\u001b[0;32m    321\u001b[0m ready \u001b[38;5;241m=\u001b[39m []\n\u001b[0;32m    322\u001b[0m \u001b[38;5;28;01mtry\u001b[39;00m:\n\u001b[1;32m--> 323\u001b[0m     r, w, _ \u001b[38;5;241m=\u001b[39m \u001b[38;5;28mself\u001b[39m\u001b[38;5;241m.\u001b[39m_select(\u001b[38;5;28mself\u001b[39m\u001b[38;5;241m.\u001b[39m_readers, \u001b[38;5;28mself\u001b[39m\u001b[38;5;241m.\u001b[39m_writers, [], timeout)\n\u001b[0;32m    324\u001b[0m \u001b[38;5;28;01mexcept\u001b[39;00m \u001b[38;5;167;01mInterruptedError\u001b[39;00m:\n\u001b[0;32m    325\u001b[0m     \u001b[38;5;28;01mreturn\u001b[39;00m ready\n",
      "File \u001b[1;32mG:\\Anaconda3\\Lib\\selectors.py:314\u001b[0m, in \u001b[0;36mSelectSelector._select\u001b[1;34m(self, r, w, _, timeout)\u001b[0m\n\u001b[0;32m    313\u001b[0m \u001b[38;5;28;01mdef\u001b[39;00m \u001b[38;5;21m_select\u001b[39m(\u001b[38;5;28mself\u001b[39m, r, w, _, timeout\u001b[38;5;241m=\u001b[39m\u001b[38;5;28;01mNone\u001b[39;00m):\n\u001b[1;32m--> 314\u001b[0m     r, w, x \u001b[38;5;241m=\u001b[39m select\u001b[38;5;241m.\u001b[39mselect(r, w, w, timeout)\n\u001b[0;32m    315\u001b[0m     \u001b[38;5;28;01mreturn\u001b[39;00m r, w \u001b[38;5;241m+\u001b[39m x, []\n",
      "\u001b[1;31mKeyboardInterrupt\u001b[0m: "
     ]
    }
   ],
   "source": [
    "from xmlrpc.server import SimpleXMLRPCRequestHandler\n",
    "from xmlrpc.server import SimpleXMLRPCServer\n",
    "from xmlrpc.server import SimpleXMLRPCServer\n",
    "import sqlite3\n",
    "from datetime import datetime\n",
    "import pandas as pd\n",
    "import numpy as np\n",
    "\n",
    "\n",
    "class RequestHandler(SimpleXMLRPCRequestHandler):\n",
    "    rpc_paths = ('/RPC2',)\n",
    "\n",
    "server = SimpleXMLRPCServer((\"localhost\", 6060),\n",
    "                            requestHandler=RequestHandler, allow_none=True)\n",
    "\n",
    "db_connection = sqlite3.connect('log.db')\n",
    "db_cursor = db_connection.cursor()\n",
    "\n",
    "is_table_created = False\n",
    "\n",
    "def store(operation, time, duration):\n",
    "    \n",
    "    db_cursor.execute(\n",
    "        \"\"\"\n",
    "        CREATE TABLE IF NOT EXISTS logs\n",
    "        (\n",
    "            log_id integer primary key autoincrement,\n",
    "            operation TEXT,\n",
    "            operation_time timestamp,\n",
    "            operation_duration real \n",
    "        );\n",
    "        \"\"\"\n",
    "    )\n",
    "    db_connection.commit()\n",
    "\n",
    "    log = (operation, str(time), duration)\n",
    "    db_cursor.execute(\"INSERT INTO logs(operation, operation_time, operation_duration) VALUES(?, ?, ?);\", log)\n",
    "    db_connection.commit()\n",
    "\n",
    "server.register_function(store, 'store')\n",
    "\n",
    "def get_all_logs():\n",
    "    db_cursor.execute('SELECT * FROM logs')\n",
    "    return db_cursor.fetchall()\n",
    "\n",
    "server.register_function(get_all_logs, 'get_all_logs')\n",
    "\n",
    "\n",
    "def get_logs(operation, time_left, time_right, duration):\n",
    "    time_left = datetime.strptime(time_left, '%Y-%m-%d %H:%M:%S')\n",
    "    time_right = datetime.strptime(time_right, '%Y-%m-%d %H:%M:%S')\n",
    "    time_left = time_left.strftime('%Y%m%dT%H:%M:%S')\n",
    "    time_right = time_right.strftime('%Y%m%dT%H:%M:%S')\n",
    "    query = \"SELECT * FROM logs\"\n",
    "    wheres = list()\n",
    "    if operation is not None:\n",
    "        wheres.append(\"operation = '\" + operation + \"'\")\n",
    "    if time_left is not None and time_right is not None:\n",
    "        wheres.append(\"operation_time > '\" + time_left + \"' and operation_time < '\" + time_right + \"'\")\n",
    "    if duration is not None:\n",
    "        wheres.append(\"operation_duration < \" + str(duration))\n",
    "    joined_wheres = \" and \".join(wheres)\n",
    "    db_cursor.execute(query + ' where ' + joined_wheres)\n",
    "    return db_cursor.fetchall()\n",
    "\n",
    "server.register_function(get_logs, 'get_logs')\n",
    "\n",
    "print (\"Listening on port 6060...\")\n",
    "server.serve_forever()"
   ]
  },
  {
   "cell_type": "code",
   "execution_count": null,
   "metadata": {},
   "outputs": [],
   "source": []
  }
 ],
 "metadata": {
  "interpreter": {
   "hash": "05c059e940ae1054b606f6b8d80c59a1cebd4d65d9df392f6e798b673f2f4101"
  },
  "kernelspec": {
   "display_name": "Python 3 (ipykernel)",
   "language": "python",
   "name": "python3"
  },
  "language_info": {
   "codemirror_mode": {
    "name": "ipython",
    "version": 3
   },
   "file_extension": ".py",
   "mimetype": "text/x-python",
   "name": "python",
   "nbconvert_exporter": "python",
   "pygments_lexer": "ipython3",
   "version": "3.11.5"
  }
 },
 "nbformat": 4,
 "nbformat_minor": 4
}
